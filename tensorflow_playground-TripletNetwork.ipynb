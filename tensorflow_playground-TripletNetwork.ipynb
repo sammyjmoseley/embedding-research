{
 "cells": [
  {
   "cell_type": "markdown",
   "metadata": {},
   "source": [
    "Import packages"
   ]
  },
  {
   "cell_type": "code",
   "execution_count": 1,
   "metadata": {},
   "outputs": [
    {
     "data": {
      "text/plain": [
       "<module 'visualize_embed' from '/Users/samuelmoseley/Documents/School/Cornell/CS6784/ResearchProject/embedding-research/visualize_embed.py'>"
      ]
     },
     "execution_count": 1,
     "metadata": {},
     "output_type": "execute_result"
    }
   ],
   "source": [
    "import importlib\n",
    "import tensorflow as tf\n",
    "from triplet_dataset import MnistDataset\n",
    "# import triplet_dataset_arrows as triplet_dataset\n",
    "# importlib.reload(MnistDataset)\n",
    "import visualize_embed\n",
    "importlib.reload(visualize_embed)"
   ]
  },
  {
   "cell_type": "markdown",
   "metadata": {},
   "source": [
    "Define generic functions to initialize convolutional/pooling layers"
   ]
  },
  {
   "cell_type": "code",
   "execution_count": 2,
   "metadata": {},
   "outputs": [],
   "source": [
    "def weight_variable(shape):\n",
    "    initial = tf.truncated_normal(shape, stddev=0.01)\n",
    "    return tf.get_variable(\"weights\", dtype=tf.float32, initializer=initial)\n",
    "\n",
    "def bias_variable(shape):\n",
    "    initial = tf.constant(0.01, shape=shape, dtype=tf.float32)\n",
    "    return tf.get_variable(\"biases\", dtype=tf.float32, initializer=initial)\n",
    "\n",
    "def conv2d(x, W):\n",
    "    return tf.nn.conv2d(x, W, strides=[1, 1, 1, 1], padding='SAME')\n",
    "\n",
    "def max_pool_2x2(x):\n",
    "    return tf.nn.max_pool(x, ksize=[1, 2, 2, 1],\n",
    "                        strides=[1, 2, 2, 1], padding='SAME')\n",
    "\n",
    "def compute_euclidean_distances(x, y, w=None):\n",
    "    d = tf.square(tf.subtract(x, y))\n",
    "    if w is not None:\n",
    "        d = tf.transpose(tf.multiply(tf.transpose(d), w))\n",
    "    d = tf.sqrt(tf.reduce_sum(d))\n",
    "    return d"
   ]
  },
  {
   "cell_type": "markdown",
   "metadata": {
    "collapsed": true
   },
   "source": [
    "Define the triplet network architecture in a class"
   ]
  },
  {
   "cell_type": "code",
   "execution_count": 3,
   "metadata": {},
   "outputs": [],
   "source": [
    "class Triplet:\n",
    "    \n",
    "    # Create model\n",
    "    def __init__(self):\n",
    "        # Input and label placeholders\n",
    "        with tf.variable_scope('input'):\n",
    "            self.x = tf.placeholder(tf.float32, shape=[None, 28, 28, 1], name='x')\n",
    "            self.xp = tf.placeholder(tf.float32, shape=[None, 28, 28, 1], name='xp')\n",
    "            self.xn = tf.placeholder(tf.float32, shape=[None, 28, 28, 1], name='xn')\n",
    "            self.weights = tf.placeholder(tf.float32, shape=[None], name='weights')\n",
    "        \n",
    "        with tf.variable_scope('embedding') as scope:\n",
    "            self.o = self.embedding_network(self.x)\n",
    "            scope.reuse_variables()\n",
    "            self.op = self.embedding_network(self.xp)\n",
    "            self.on = self.embedding_network(self.xn)\n",
    "        \n",
    "        with tf.variable_scope('distances'):\n",
    "            self.dp = compute_euclidean_distances(self.o, self.op)\n",
    "            scope.reuse_variables()\n",
    "            self.dn = compute_euclidean_distances(self.o, self.on, self.weights)\n",
    "            self.logits = tf.nn.softmax([self.dp, self.dn], name=\"logits\")\n",
    "        \n",
    "        with tf.variable_scope('loss'):\n",
    "            self.loss = tf.reduce_mean(tf.pow(self.logits[0], 2))\n",
    "    \n",
    "    def embedding_network(self, x):\n",
    "        dim = 1\n",
    "        with tf.variable_scope('conv1'):\n",
    "            out = 32\n",
    "            w = weight_variable([5, 5, dim, out])\n",
    "            b = bias_variable([out])\n",
    "            h = max_pool_2x2(tf.nn.relu(conv2d(x, w) + b))\n",
    "            dim = out\n",
    "            x = h\n",
    "        with tf.variable_scope('conv2'):\n",
    "            out = 64\n",
    "            w = weight_variable([3, 3, dim, out])\n",
    "            b = bias_variable([out])\n",
    "            h = max_pool_2x2(tf.nn.relu(conv2d(x, w) + b))\n",
    "            dim = out\n",
    "            x = h\n",
    "        with tf.variable_scope('conv3'):\n",
    "            out = 128\n",
    "            w = weight_variable([3, 3, dim, out])\n",
    "            b = bias_variable([out])\n",
    "            h = max_pool_2x2(tf.nn.relu(conv2d(x, w) + b))\n",
    "            dim = out\n",
    "            x = h\n",
    "        with tf.variable_scope('readout'):\n",
    "            gpool = tf.nn.pool(x, [h.get_shape()[1], h.get_shape()[2]], pooling_type=\"MAX\", padding=\"VALID\", name=\"gpool\")\n",
    "            return tf.reshape(gpool, [-1, 128])"
   ]
  },
  {
   "cell_type": "markdown",
   "metadata": {},
   "source": [
    "Prepare the network for training"
   ]
  },
  {
   "cell_type": "code",
   "execution_count": 4,
   "metadata": {},
   "outputs": [],
   "source": [
    "triplet = Triplet()\n",
    "train_step = tf.train.GradientDescentOptimizer(0.5).minimize(triplet.loss)"
   ]
  },
  {
   "cell_type": "markdown",
   "metadata": {},
   "source": [
    "Start training!"
   ]
  },
  {
   "cell_type": "code",
   "execution_count": 5,
   "metadata": {
    "scrolled": true
   },
   "outputs": [
    {
     "name": "stdout",
     "output_type": "stream",
     "text": [
      "Extracting MNIST_data/train-images-idx3-ubyte.gz\n",
      "Extracting MNIST_data/train-labels-idx1-ubyte.gz\n",
      "Extracting MNIST_data/t10k-images-idx3-ubyte.gz\n",
      "Extracting MNIST_data/t10k-labels-idx1-ubyte.gz\n",
      "step 0, training loss 0.249546\n",
      "step 5, training loss 0.250062\n",
      "step 10, training loss 0.248071\n",
      "step 15, training loss 0.242647\n",
      "step 20, training loss 0.209708\n",
      "step 25, training loss 0.00874526\n",
      "step 30, training loss 0.00544969\n",
      "step 35, training loss 0.000339344\n",
      "step 40, training loss 0.001257\n",
      "step 45, training loss 0.000778555\n",
      "step 50, training loss 0.000176492\n",
      "step 55, training loss 0.00576889\n",
      "step 60, training loss 2.90545e-05\n",
      "step 65, training loss 3.88083e-07\n",
      "step 70, training loss 0.000121425\n",
      "step 75, training loss 3.92247e-06\n",
      "step 80, training loss 8.45209e-07\n",
      "step 85, training loss 1.77828e-07\n",
      "step 90, training loss 2.82349e-05\n",
      "step 95, training loss 2.01999e-11\n",
      "784\n"
     ]
    },
    {
     "data": {
      "image/png": "[encoded data removed]",
      "text/plain": [
       "<matplotlib.figure.Figure at 0x11132f9b0>"
      ]
     },
     "metadata": {},
     "output_type": "display_data"
    }
   ],
   "source": [
    "batch_size = 64\n",
    "logging_frequency = 5\n",
    "iterations = 100\n",
    "to_embed = True\n",
    "mnist_dataset = MnistDataset()\n",
    "with tf.Session() as sess:\n",
    "    sess.run(tf.global_variables_initializer())\n",
    "    for i in range(iterations):\n",
    "        batch = mnist_dataset.generate_train_data(batch_size)\n",
    "        if i % logging_frequency == 0:\n",
    "            loss = sess.run(triplet.loss, feed_dict={triplet.x: batch[0], triplet.xp: batch[1], triplet.xn: batch[2], triplet.weights: batch[3]}) \n",
    "            \n",
    "            print('step %d, training loss %g' % (i, loss))\n",
    "        train_step.run(feed_dict={triplet.x: batch[0], triplet.xp: batch[1], triplet.xn: batch[2], triplet.weights: batch[3]})\n",
    "    test_batch = mnist_dataset.generate_test_data(100)\n",
    "    embed = triplet.o.eval({triplet.x: test_batch})\n",
    "        \n",
    "if to_embed:\n",
    "    print(test_batch[0].size)\n",
    "    visualize_embed.visualize(embed, test_batch[:,:,:,0])"
   ]
  },
  {
   "cell_type": "code",
   "execution_count": null,
   "metadata": {},
   "outputs": [],
   "source": []
  }
 ],
 "metadata": {
  "kernelspec": {
   "display_name": "Python 3",
   "language": "python",
   "name": "python3"
  },
  "language_info": {
   "codemirror_mode": {
    "name": "ipython",
    "version": 3
   },
   "file_extension": ".py",
   "mimetype": "text/x-python",
   "name": "python",
   "nbconvert_exporter": "python",
   "pygments_lexer": "ipython3",
   "version": "3.6.3"
  }
 },
 "nbformat": 4,
 "nbformat_minor": 2
}
