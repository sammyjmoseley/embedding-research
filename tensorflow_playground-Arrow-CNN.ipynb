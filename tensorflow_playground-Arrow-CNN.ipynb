{
 "cells": [
  {
   "cell_type": "markdown",
   "metadata": {},
   "source": [
    "Import packages"
   ]
  },
  {
   "cell_type": "code",
   "execution_count": 1,
   "metadata": {},
   "outputs": [],
   "source": [
    "import tensorflow as tf\n",
    "import create_dataset\n",
    "import math\n",
    "import numpy as np\n",
    "import matplotlib.pyplot as plt\n",
    "%matplotlib inline"
   ]
  },
  {
   "cell_type": "markdown",
   "metadata": {},
   "source": [
    "Define generic functions to visualize data"
   ]
  },
  {
   "cell_type": "code",
   "execution_count": 2,
   "metadata": {},
   "outputs": [],
   "source": [
    "def showImage(im):\n",
    "    if (im.shape[2] == 1):\n",
    "        im = im[:, :, 0]\n",
    "    plt.imshow(im)\n",
    "    plt.show()"
   ]
  },
  {
   "cell_type": "markdown",
   "metadata": {},
   "source": [
    "Define generic functions to initialize weight/bias variables, and to define common convolution and pooling operations"
   ]
  },
  {
   "cell_type": "code",
   "execution_count": 3,
   "metadata": {},
   "outputs": [],
   "source": [
    "def weight_variable(shape):\n",
    "  initial = tf.truncated_normal(shape, stddev=0.1)\n",
    "  return tf.Variable(initial, name='weights')\n",
    "\n",
    "def bias_variable(shape):\n",
    "  initial = tf.constant(0.1, shape=shape)\n",
    "  return tf.Variable(initial, name='biases')"
   ]
  },
  {
   "cell_type": "code",
   "execution_count": 4,
   "metadata": {},
   "outputs": [],
   "source": [
    "def conv2d(x, W):\n",
    "  return tf.nn.conv2d(x, W, strides=[1, 1, 1, 1], padding='SAME')\n",
    "\n",
    "def max_pool_2x2(x):\n",
    "  return tf.nn.max_pool(x, ksize=[1, 2, 2, 1],\n",
    "                        strides=[1, 2, 2, 1], padding='SAME')"
   ]
  },
  {
   "cell_type": "markdown",
   "metadata": {},
   "source": [
    "Define the network architecture + loss function and metrics"
   ]
  },
  {
   "cell_type": "code",
   "execution_count": 5,
   "metadata": {},
   "outputs": [
    {
     "name": "stdout",
     "output_type": "stream",
     "text": [
      "(?, 14, 14, 32)\n",
      "(?, 7, 7, 64)\n"
     ]
    }
   ],
   "source": [
    "# Input/Output placeholders\n",
    "x = tf.placeholder(tf.float32, shape=[None, 28, 28, 1], name='input')\n",
    "y_ = tf.placeholder(tf.float32, shape=[None, 2], name='output')\n",
    "\n",
    "num_fc_layers = 10\n",
    "\n",
    "# Layer 1\n",
    "with tf.name_scope('1/Conv'):\n",
    "    W_conv1 = weight_variable([1, 1, 1, 32])\n",
    "    b_conv1 = bias_variable([32])\n",
    "    x_image = tf.reshape(x, [-1, 28, 28, 1])\n",
    "    h_conv1 = tf.nn.relu(conv2d(x_image, W_conv1) + b_conv1)\n",
    "    h_pool1 = max_pool_2x2(h_conv1)\n",
    "\n",
    "print h_pool1.shape\n",
    "\n",
    "# Layer 2\n",
    "with tf.name_scope('2/Conv'):\n",
    "    W_conv2 = weight_variable([1, 1, 32, 64])\n",
    "    b_conv2 = bias_variable([64])\n",
    "    h_conv2 = tf.nn.relu(conv2d(h_pool1, W_conv2) + b_conv2)\n",
    "    h_pool2 = max_pool_2x2(h_conv2)\n",
    "\n",
    "print h_pool2.shape\n",
    "\n",
    "layers = [tf.reshape(h_pool2, [-1, 7*7*64])]\n",
    "keep_prob = tf.placeholder(tf.float32)\n",
    "prev_layer_size = 7*7*64                     \n",
    "# Create FC layers\n",
    "for i in range(0, num_fc_layers):\n",
    "    with tf.name_scope('{}/FC'.format(i)):\n",
    "        W_fc = weight_variable([prev_layer_size, 1024])\n",
    "        b_fc = bias_variable([1024])\n",
    "        if i < num_fc_layers/3:\n",
    "            h_fc = tf.nn.relu(tf.matmul(layers[-1], W_fc) + b_fc)\n",
    "        else: \n",
    "            h_fc = tf.nn.tanh(tf.matmul(layers[-1], W_fc) + b_fc)\n",
    "        h_fc_drop = tf.nn.dropout(h_fc, keep_prob)\n",
    "        layers.append(h_fc_drop)\n",
    "        prev_layer_size = 1024\n",
    "\n",
    "# Readout\n",
    "with tf.name_scope('5/Readout'):\n",
    "    W_fc2 = weight_variable([1024, 2])\n",
    "    b_fc2 = bias_variable([2])\n",
    "    y_conv = tf.matmul(layers[-1], W_fc2) + b_fc2\n",
    "    norm_y_conv = tf.nn.l2_normalize(y_conv, dim=0)\n",
    "\n",
    "# Define loss\n",
    "l2_loss = tf.reduce_mean(\n",
    "    tf.nn.l2_loss(tf.subtract(norm_y_conv, y_)) + 0.01*tf.nn.l2_loss(tf.subtract(norm_y_conv, y_conv)))\n",
    "train_step = tf.train.AdamOptimizer(1e-4).minimize(l2_loss)"
   ]
  },
  {
   "cell_type": "markdown",
   "metadata": {},
   "source": [
    "Train the network per-batch"
   ]
  },
  {
   "cell_type": "code",
   "execution_count": 6,
   "metadata": {},
   "outputs": [
    {
     "name": "stdout",
     "output_type": "stream",
     "text": [
      "step 0, training loss 0.808393\n",
      "step 20, training loss 1.02857\n",
      "step 40, training loss 0.970555\n",
      "step 60, training loss 0.624264\n",
      "step 80, training loss 1.14861\n",
      "step 100, training loss 0.431809\n",
      "step 120, training loss 0.43168\n",
      "step 140, training loss 0.610557\n",
      "step 160, training loss 0.610558\n",
      "step 180, training loss 0.610558\n",
      "step 200, training loss 0.431673\n",
      "step 220, training loss 0.789443\n",
      "step 240, training loss 0.610557\n",
      "step 260, training loss 0.610556\n",
      "step 280, training loss 0.789443\n",
      "step 300, training loss 0.968327\n",
      "step 320, training loss 0.789443\n",
      "step 340, training loss 0.789443\n",
      "step 360, training loss 1.14721\n",
      "step 380, training loss 0.789443\n",
      "step 400, training loss 0.789441\n",
      "step 420, training loss 0.431671\n",
      "step 440, training loss 0.610558\n",
      "step 460, training loss 0.789443\n",
      "step 480, training loss 0.968329\n",
      "step 500, training loss 0.789443\n",
      "step 520, training loss 0.610559\n",
      "step 540, training loss 0.968328\n",
      "step 560, training loss 0.610557\n",
      "step 580, training loss 0.431672\n",
      "step 600, training loss 0.252787\n",
      "step 620, training loss 0.968327\n",
      "step 640, training loss 0.789443\n",
      "step 660, training loss 0.968329\n",
      "step 680, training loss 0.252787\n",
      "step 700, training loss 0.610558\n",
      "step 720, training loss 0.968328\n",
      "step 740, training loss 0.789443\n",
      "step 760, training loss 0.252786\n",
      "step 780, training loss 0.789443\n"
     ]
    },
    {
     "data": {
      "image/png": "[encoded data removed]",
      "text/plain": [
       "<matplotlib.figure.Figure at 0x1176c6290>"
      ]
     },
     "metadata": {},
     "output_type": "display_data"
    },
    {
     "name": "stdout",
     "output_type": "stream",
     "text": [
      "True angle: 3.14159265359\n",
      "True sin/cos: [  1.22464680e-16  -1.00000000e+00]\n",
      "Predicted angle: [-0.44721562 -0.44721308]\n"
     ]
    },
    {
     "data": {
      "image/png": "[encoded data removed]",
      "text/plain": [
       "<matplotlib.figure.Figure at 0x118a85e10>"
      ]
     },
     "metadata": {},
     "output_type": "display_data"
    },
    {
     "name": "stdout",
     "output_type": "stream",
     "text": [
      "True angle: 4.71238898038\n",
      "True sin/cos: [ -1.00000000e+00  -1.83697020e-16]\n",
      "Predicted angle: [-0.44721091 -0.44721451]\n"
     ]
    },
    {
     "data": {
      "image/png": "[encoded data removed]",
      "text/plain": [
       "<matplotlib.figure.Figure at 0x11b8ca550>"
      ]
     },
     "metadata": {},
     "output_type": "display_data"
    },
    {
     "name": "stdout",
     "output_type": "stream",
     "text": [
      "True angle: 3.14159265359\n",
      "True sin/cos: [  1.22464680e-16  -1.00000000e+00]\n",
      "Predicted angle: [-0.44721562 -0.44721308]\n"
     ]
    },
    {
     "data": {
      "image/png": "[encoded data removed]",
      "text/plain": [
       "<matplotlib.figure.Figure at 0x118a852d0>"
      ]
     },
     "metadata": {},
     "output_type": "display_data"
    },
    {
     "name": "stdout",
     "output_type": "stream",
     "text": [
      "True angle: 4.71238898038\n",
      "True sin/cos: [ -1.00000000e+00  -1.83697020e-16]\n",
      "Predicted angle: [-0.44721091 -0.44721451]\n"
     ]
    },
    {
     "data": {
      "image/png": "[encoded data removed]",
      "text/plain": [
       "<matplotlib.figure.Figure at 0x11bafc6d0>"
      ]
     },
     "metadata": {},
     "output_type": "display_data"
    },
    {
     "name": "stdout",
     "output_type": "stream",
     "text": [
      "True angle: 3.14159265359\n",
      "True sin/cos: [  1.22464680e-16  -1.00000000e+00]\n",
      "Predicted angle: [-0.4472149  -0.44721273]\n"
     ]
    }
   ],
   "source": [
    "batch_size = 5\n",
    "logging_frequency = 20\n",
    "iterations = 800\n",
    "\n",
    "with tf.Session() as sess:\n",
    "  sess.run(tf.global_variables_initializer())\n",
    "  for i in range(iterations):\n",
    "    batch = create_dataset.generate_data_circle(batch_size)\n",
    "    if i % logging_frequency == 0:\n",
    "      loss = sess.run(l2_loss, feed_dict={x: batch[0], y_: batch[1], keep_prob: 1.0}) \n",
    "      print('step %d, training loss %g' % (i, loss/batch_size))\n",
    "    train_step.run(feed_dict={x: batch[0], y_: batch[1], keep_prob: 1.0})\n",
    "    \n",
    "  visualization_size = 5\n",
    "  vis_batch = create_dataset.generate_data_circle(visualization_size)\n",
    "  output = sess.run(norm_y_conv, feed_dict={x: vis_batch[0], y_: vis_batch[1], keep_prob: 1.0})\n",
    "  for i in range(visualization_size):\n",
    "    showImage(vis_batch[0][i])\n",
    "    print (\"True angle: \" + str(vis_batch[2][i][0]))\n",
    "    print (\"True sin/cos: \" + str(vis_batch[1][i]))\n",
    "    print (\"Predicted angle: \" + str(output[i]))"
   ]
  },
  {
   "cell_type": "code",
   "execution_count": null,
   "metadata": {},
   "outputs": [],
   "source": []
  }
 ],
 "metadata": {
  "kernelspec": {
   "display_name": "Python 2",
   "language": "python",
   "name": "python2"
  },
  "language_info": {
   "codemirror_mode": {
    "name": "ipython",
    "version": 2
   },
   "file_extension": ".py",
   "mimetype": "text/x-python",
   "name": "python",
   "nbconvert_exporter": "python",
   "pygments_lexer": "ipython2",
   "version": "2.7.13"
  }
 },
 "nbformat": 4,
 "nbformat_minor": 2
}
