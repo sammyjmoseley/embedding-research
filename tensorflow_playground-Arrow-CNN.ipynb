{
 "cells": [
  {
   "cell_type": "markdown",
   "metadata": {},
   "source": [
    "Import packages"
   ]
  },
  {
   "cell_type": "code",
   "execution_count": 1,
   "metadata": {},
   "outputs": [],
   "source": [
    "import tensorflow as tf\n",
    "import create_dataset\n",
    "import math\n",
    "import numpy as np\n",
    "import matplotlib.pyplot as plt\n",
    "%matplotlib inline"
   ]
  },
  {
   "cell_type": "markdown",
   "metadata": {},
   "source": [
    "Define generic functions to visualize data"
   ]
  },
  {
   "cell_type": "code",
   "execution_count": 2,
   "metadata": {},
   "outputs": [],
   "source": [
    "def showImage(im):\n",
    "    if (im.shape[2] == 1):\n",
    "        im = im[:, :, 0]\n",
    "    plt.imshow(im)\n",
    "    plt.show()"
   ]
  },
  {
   "cell_type": "markdown",
   "metadata": {},
   "source": [
    "Define generic functions to initialize weight/bias variables, and to define common convolution and pooling operations"
   ]
  },
  {
   "cell_type": "code",
   "execution_count": 3,
   "metadata": {},
   "outputs": [],
   "source": [
    "def weight_variable(shape):\n",
    "  initial = tf.truncated_normal(shape, stddev=0.1)\n",
    "  return tf.Variable(initial, name='weights')\n",
    "\n",
    "def bias_variable(shape):\n",
    "  initial = tf.constant(0.1, shape=shape)\n",
    "  return tf.Variable(initial, name='biases')"
   ]
  },
  {
   "cell_type": "code",
   "execution_count": 4,
   "metadata": {},
   "outputs": [],
   "source": [
    "def conv2d(x, W):\n",
    "  return tf.nn.conv2d(x, W, strides=[1, 1, 1, 1], padding='SAME')\n",
    "\n",
    "def max_pool_2x2(x):\n",
    "  return tf.nn.max_pool(x, ksize=[1, 2, 2, 1],\n",
    "                        strides=[1, 2, 2, 1], padding='SAME')"
   ]
  },
  {
   "cell_type": "markdown",
   "metadata": {},
   "source": [
    "Define the network architecture + loss function and metrics"
   ]
  },
  {
   "cell_type": "code",
   "execution_count": 11,
   "metadata": {},
   "outputs": [
    {
     "name": "stdout",
     "output_type": "stream",
     "text": [
      "(?, 28, 28, 1)\n",
      "(?, 14, 14, 32)\n",
      "(?, 7, 7, 64)\n"
     ]
    }
   ],
   "source": [
    "# Input/Output placeholders\n",
    "x = tf.placeholder(tf.float32, shape=[None, 28, 28, 1], name='input')\n",
    "y_ = tf.placeholder(tf.float32, shape=[None, 2], name='output')\n",
    "\n",
    "num_fc_layers = 10\n",
    "print x_image.shape\n",
    "\n",
    "# Layer 1\n",
    "with tf.name_scope('1/Conv'):\n",
    "    W_conv1 = weight_variable([3, 3, 1, 32])\n",
    "    b_conv1 = bias_variable([32])\n",
    "    x_image = tf.reshape(x, [-1, 28, 28, 1])\n",
    "    h_conv1 = tf.nn.relu(conv2d(x_image, W_conv1) + b_conv1)\n",
    "    h_pool1 = max_pool_2x2(h_conv1)\n",
    "\n",
    "print h_pool1.shape\n",
    "\n",
    "# Layer 2\n",
    "with tf.name_scope('2/Conv'):\n",
    "    W_conv2 = weight_variable([3, 3, 32, 64])\n",
    "    b_conv2 = bias_variable([64])\n",
    "    h_conv2 = tf.nn.relu(conv2d(h_pool1, W_conv2) + b_conv2)\n",
    "    h_pool2 = max_pool_2x2(h_conv2)\n",
    "\n",
    "print h_pool2.shape\n",
    "\n",
    "layers = [tf.reshape(h_pool2, [-1, 7*7*64])]\n",
    "keep_prob = tf.placeholder(tf.float32)\n",
    "prev_layer_size = 7*7*64                     \n",
    "# Create FC layers\n",
    "for i in range(0, num_fc_layers):\n",
    "    with tf.name_scope('{}/FC'.format(i)):\n",
    "        W_fc = weight_variable([prev_layer_size, 1024])\n",
    "        b_fc = bias_variable([1024])\n",
    "        h_fc = tf.nn.relu(tf.matmul(layers[-1], W_fc) + b_fc)\n",
    "        h_fc_drop = tf.nn.dropout(h_fc, keep_prob)\n",
    "        layers.append(h_fc_drop)\n",
    "        prev_layer_size = 1024\n",
    "\n",
    "# Readout\n",
    "with tf.name_scope('5/Readout'):\n",
    "    W_fc2 = weight_variable([1024, 2])\n",
    "    b_fc2 = bias_variable([2])\n",
    "    y_conv = tf.matmul(layers[-1], W_fc2) + b_fc2\n",
    "\n",
    "# Define loss\n",
    "l2_loss = tf.reduce_mean(\n",
    "    tf.nn.l2_loss(tf.subtract(y_conv, y_)))\n",
    "train_step = tf.train.AdamOptimizer(1e-3).minimize(l2_loss)"
   ]
  },
  {
   "cell_type": "markdown",
   "metadata": {},
   "source": [
    "Train the network per-batch"
   ]
  },
  {
   "cell_type": "code",
   "execution_count": 9,
   "metadata": {},
   "outputs": [
    {
     "name": "stdout",
     "output_type": "stream",
     "text": [
      "step 0, training loss 3.81957e+11\n",
      "step 10, training loss 8.38303e+09\n",
      "step 20, training loss 6.74443e+08\n",
      "step 30, training loss 4.74962e+07\n",
      "step 40, training loss 7.1082e+07\n",
      "step 50, training loss 3.65452e+07\n",
      "step 60, training loss 2.28263e+07\n",
      "step 70, training loss 1.58237e+06\n",
      "step 80, training loss 1.66361e+06\n",
      "step 90, training loss 1.66093e+06\n"
     ]
    },
    {
     "data": {
      "image/png": "[encoded data removed]",
      "text/plain": [
       "<matplotlib.figure.Figure at 0x1173ee250>"
      ]
     },
     "metadata": {},
     "output_type": "display_data"
    },
    {
     "name": "stdout",
     "output_type": "stream",
     "text": [
      "True angle: 54\n",
      "True sin/cos: [ 0.80901699  0.58778525]\n",
      "Predicted angle: [ 235.0390625    39.48046875]\n"
     ]
    },
    {
     "data": {
      "image/png": "[encoded data removed]",
      "text/plain": [
       "<matplotlib.figure.Figure at 0x119e2ae50>"
      ]
     },
     "metadata": {},
     "output_type": "display_data"
    },
    {
     "name": "stdout",
     "output_type": "stream",
     "text": [
      "True angle: 279\n",
      "True sin/cos: [-0.98768834  0.15643447]\n",
      "Predicted angle: [ 149.328125   166.4765625]\n"
     ]
    },
    {
     "data": {
      "image/png": "[encoded data removed]",
      "text/plain": [
       "<matplotlib.figure.Figure at 0x118d5bdd0>"
      ]
     },
     "metadata": {},
     "output_type": "display_data"
    },
    {
     "name": "stdout",
     "output_type": "stream",
     "text": [
      "True angle: 175\n",
      "True sin/cos: [ 0.08715574 -0.9961947 ]\n",
      "Predicted angle: [  40.42773438  269.34179688]\n"
     ]
    },
    {
     "data": {
      "image/png": "[encoded data removed]",
      "text/plain": [
       "<matplotlib.figure.Figure at 0x118bcded0>"
      ]
     },
     "metadata": {},
     "output_type": "display_data"
    },
    {
     "name": "stdout",
     "output_type": "stream",
     "text": [
      "True angle: 171\n",
      "True sin/cos: [ 0.15643447 -0.98768834]\n",
      "Predicted angle: [ 191.59375     289.79003906]\n"
     ]
    },
    {
     "data": {
      "image/png": "[encoded data removed]",
      "text/plain": [
       "<matplotlib.figure.Figure at 0x1176c2650>"
      ]
     },
     "metadata": {},
     "output_type": "display_data"
    },
    {
     "name": "stdout",
     "output_type": "stream",
     "text": [
      "True angle: 151\n",
      "True sin/cos: [ 0.48480962 -0.87461971]\n",
      "Predicted angle: [ 62.46484375  99.15625   ]\n"
     ]
    }
   ],
   "source": [
    "batch_size = 100\n",
    "logging_frequency = 10\n",
    "iterations = 100\n",
    "\n",
    "with tf.Session() as sess:\n",
    "  sess.run(tf.global_variables_initializer())\n",
    "  for i in range(iterations):\n",
    "    batch = create_dataset.generate_data(batch_size)\n",
    "    if i % logging_frequency == 0:\n",
    "      loss = sess.run(l2_loss, feed_dict={x: batch[0], y_: batch[1], keep_prob: 1.0}) \n",
    "      print('step %d, training loss %g' % (i, loss/batch_size))\n",
    "    train_step.run(feed_dict={x: batch[0], y_: batch[1], keep_prob: 1.0})\n",
    "    \n",
    "  visualization_size = 5\n",
    "  vis_batch = create_dataset.generate_data(visualization_size)\n",
    "  output = sess.run(y_conv, feed_dict={x: vis_batch[0], y_: vis_batch[1], keep_prob: 1.0})\n",
    "  for i in range(visualization_size):\n",
    "    showImage(vis_batch[0][i])\n",
    "    print (\"True angle: \" + str(vis_batch[2][i][0]))\n",
    "    print (\"True sin/cos: \" + str(vis_batch[1][i]))\n",
    "    print (\"Predicted angle: \" + str((output[i]*180/math.pi)%360))"
   ]
  },
  {
   "cell_type": "code",
   "execution_count": null,
   "metadata": {},
   "outputs": [],
   "source": []
  }
 ],
 "metadata": {
  "kernelspec": {
   "display_name": "Python 2",
   "language": "python",
   "name": "python2"
  },
  "language_info": {
   "codemirror_mode": {
    "name": "ipython",
    "version": 2
   },
   "file_extension": ".py",
   "mimetype": "text/x-python",
   "name": "python",
   "nbconvert_exporter": "python",
   "pygments_lexer": "ipython2",
   "version": "2.7.13"
  }
 },
 "nbformat": 4,
 "nbformat_minor": 2
}
